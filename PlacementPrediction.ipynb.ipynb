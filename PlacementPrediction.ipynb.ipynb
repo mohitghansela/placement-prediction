{
 "cells": [
  {
   "cell_type": "code",
   "execution_count": 1,
   "id": "149495f7",
   "metadata": {
    "_cell_guid": "b1076dfc-b9ad-4769-8c92-a6c4dae69d19",
    "_uuid": "8f2839f25d086af736a60e9eeb907d3b93b6e0e5",
    "execution": {
     "iopub.execute_input": "2025-07-11T04:43:55.961257Z",
     "iopub.status.busy": "2025-07-11T04:43:55.960931Z",
     "iopub.status.idle": "2025-07-11T04:43:57.829660Z",
     "shell.execute_reply": "2025-07-11T04:43:57.828524Z"
    },
    "papermill": {
     "duration": 1.87768,
     "end_time": "2025-07-11T04:43:57.831440",
     "exception": false,
     "start_time": "2025-07-11T04:43:55.953760",
     "status": "completed"
    },
    "tags": []
   },
   "outputs": [
    {
     "name": "stdout",
     "output_type": "stream",
     "text": [
      "/kaggle/input/global-student-migration-and-higher-education-trends/global_student_migration.csv\n"
     ]
    }
   ],
   "source": [
    "# This Python 3 environment comes with many helpful analytics libraries installed\n",
    "# It is defined by the kaggle/python Docker image: https://github.com/kaggle/docker-python\n",
    "# For example, here's several helpful packages to load\n",
    "\n",
    "import numpy as np # linear algebra\n",
    "import pandas as pd # data processing, CSV file I/O (e.g. pd.read_csv)\n",
    "\n",
    "# Input data files are available in the read-only \"../input/\" directory\n",
    "# For example, running this (by clicking run or pressing Shift+Enter) will list all files under the input directory\n",
    "\n",
    "import os\n",
    "for dirname, _, filenames in os.walk('/kaggle/input'):\n",
    "    for filename in filenames:\n",
    "        print(os.path.join(dirname, filename))\n",
    "\n",
    "# You can write up to 20GB to the current directory (/kaggle/working/) that gets preserved as output when you create a version using \"Save & Run All\" \n",
    "# You can also write temporary files to /kaggle/temp/, but they won't be saved outside of the current session"
   ]
  },
  {
   "cell_type": "code",
   "execution_count": 2,
   "id": "33bfe5f9",
   "metadata": {
    "execution": {
     "iopub.execute_input": "2025-07-11T04:43:57.840747Z",
     "iopub.status.busy": "2025-07-11T04:43:57.840314Z",
     "iopub.status.idle": "2025-07-11T04:43:57.845829Z",
     "shell.execute_reply": "2025-07-11T04:43:57.844935Z"
    },
    "papermill": {
     "duration": 0.012121,
     "end_time": "2025-07-11T04:43:57.847609",
     "exception": false,
     "start_time": "2025-07-11T04:43:57.835488",
     "status": "completed"
    },
    "tags": []
   },
   "outputs": [
    {
     "name": "stdout",
     "output_type": "stream",
     "text": [
      "global_student_migration.csv\n"
     ]
    }
   ],
   "source": [
    "import os\n",
    "\n",
    "# Check all file names inside the folder\n",
    "base_path = '/kaggle/input/global-student-migration-and-higher-education-trends'\n",
    "\n",
    "for file in os.listdir(base_path):\n",
    "    print(file)\n"
   ]
  },
  {
   "cell_type": "code",
   "execution_count": 3,
   "id": "6a8689a3",
   "metadata": {
    "execution": {
     "iopub.execute_input": "2025-07-11T04:43:57.856311Z",
     "iopub.status.busy": "2025-07-11T04:43:57.855790Z",
     "iopub.status.idle": "2025-07-11T04:43:57.943103Z",
     "shell.execute_reply": "2025-07-11T04:43:57.942262Z"
    },
    "papermill": {
     "duration": 0.09311,
     "end_time": "2025-07-11T04:43:57.944584",
     "exception": false,
     "start_time": "2025-07-11T04:43:57.851474",
     "status": "completed"
    },
    "tags": []
   },
   "outputs": [
    {
     "data": {
      "text/html": [
       "<div>\n",
       "<style scoped>\n",
       "    .dataframe tbody tr th:only-of-type {\n",
       "        vertical-align: middle;\n",
       "    }\n",
       "\n",
       "    .dataframe tbody tr th {\n",
       "        vertical-align: top;\n",
       "    }\n",
       "\n",
       "    .dataframe thead th {\n",
       "        text-align: right;\n",
       "    }\n",
       "</style>\n",
       "<table border=\"1\" class=\"dataframe\">\n",
       "  <thead>\n",
       "    <tr style=\"text-align: right;\">\n",
       "      <th></th>\n",
       "      <th>student_id</th>\n",
       "      <th>origin_country</th>\n",
       "      <th>destination_country</th>\n",
       "      <th>destination_city</th>\n",
       "      <th>university_name</th>\n",
       "      <th>course_name</th>\n",
       "      <th>field_of_study</th>\n",
       "      <th>year_of_enrollment</th>\n",
       "      <th>scholarship_received</th>\n",
       "      <th>enrollment_reason</th>\n",
       "      <th>graduation_year</th>\n",
       "      <th>placement_status</th>\n",
       "      <th>placement_country</th>\n",
       "      <th>placement_company</th>\n",
       "      <th>starting_salary_usd</th>\n",
       "      <th>gpa_or_score</th>\n",
       "      <th>visa_status</th>\n",
       "      <th>post_graduation_visa</th>\n",
       "      <th>language_proficiency_test</th>\n",
       "      <th>test_score</th>\n",
       "    </tr>\n",
       "  </thead>\n",
       "  <tbody>\n",
       "    <tr>\n",
       "      <th>0</th>\n",
       "      <td>S00001</td>\n",
       "      <td>Finland</td>\n",
       "      <td>Russia</td>\n",
       "      <td>Moscow</td>\n",
       "      <td>Lomonosov Moscow State University</td>\n",
       "      <td>Computer Science</td>\n",
       "      <td>Engineering</td>\n",
       "      <td>2021</td>\n",
       "      <td>No</td>\n",
       "      <td>Higher Ranking</td>\n",
       "      <td>2024</td>\n",
       "      <td>Placed</td>\n",
       "      <td>Russia</td>\n",
       "      <td>Microsoft</td>\n",
       "      <td>36416</td>\n",
       "      <td>3.92</td>\n",
       "      <td>Tier 4</td>\n",
       "      <td>Work Permit</td>\n",
       "      <td>TOEFL</td>\n",
       "      <td>7.8</td>\n",
       "    </tr>\n",
       "    <tr>\n",
       "      <th>1</th>\n",
       "      <td>S00002</td>\n",
       "      <td>UK</td>\n",
       "      <td>Germany</td>\n",
       "      <td>Aachen</td>\n",
       "      <td>RWTH Aachen</td>\n",
       "      <td>Civil Engineering</td>\n",
       "      <td>Law</td>\n",
       "      <td>2023</td>\n",
       "      <td>Yes</td>\n",
       "      <td>Job Opportunities</td>\n",
       "      <td>2024</td>\n",
       "      <td>Placed</td>\n",
       "      <td>Germany</td>\n",
       "      <td>Google</td>\n",
       "      <td>32956</td>\n",
       "      <td>2.60</td>\n",
       "      <td>Study Permit</td>\n",
       "      <td>OPT</td>\n",
       "      <td>PTE</td>\n",
       "      <td>7.9</td>\n",
       "    </tr>\n",
       "    <tr>\n",
       "      <th>2</th>\n",
       "      <td>S00003</td>\n",
       "      <td>Ireland</td>\n",
       "      <td>Canada</td>\n",
       "      <td>Vancouver</td>\n",
       "      <td>University of British Columbia</td>\n",
       "      <td>Law</td>\n",
       "      <td>Arts</td>\n",
       "      <td>2019</td>\n",
       "      <td>No</td>\n",
       "      <td>Scholarship</td>\n",
       "      <td>2020</td>\n",
       "      <td>Not Placed</td>\n",
       "      <td>NaN</td>\n",
       "      <td>NaN</td>\n",
       "      <td>0</td>\n",
       "      <td>2.72</td>\n",
       "      <td>F1</td>\n",
       "      <td>Blue Card</td>\n",
       "      <td>NaN</td>\n",
       "      <td>0.0</td>\n",
       "    </tr>\n",
       "    <tr>\n",
       "      <th>3</th>\n",
       "      <td>S00004</td>\n",
       "      <td>UAE</td>\n",
       "      <td>UK</td>\n",
       "      <td>Birmingham</td>\n",
       "      <td>University of Birmingham</td>\n",
       "      <td>Data Science</td>\n",
       "      <td>Social Sciences</td>\n",
       "      <td>2021</td>\n",
       "      <td>Yes</td>\n",
       "      <td>Quality of Life</td>\n",
       "      <td>2023</td>\n",
       "      <td>Placed</td>\n",
       "      <td>UK</td>\n",
       "      <td>Apple</td>\n",
       "      <td>50892</td>\n",
       "      <td>3.71</td>\n",
       "      <td>Schengen Student Visa</td>\n",
       "      <td>PSW</td>\n",
       "      <td>NaN</td>\n",
       "      <td>0.0</td>\n",
       "    </tr>\n",
       "    <tr>\n",
       "      <th>4</th>\n",
       "      <td>S00005</td>\n",
       "      <td>South Africa</td>\n",
       "      <td>Germany</td>\n",
       "      <td>Stuttgart</td>\n",
       "      <td>University of Stuttgart</td>\n",
       "      <td>Business Administration</td>\n",
       "      <td>Law</td>\n",
       "      <td>2020</td>\n",
       "      <td>Yes</td>\n",
       "      <td>Political Stability</td>\n",
       "      <td>2021</td>\n",
       "      <td>Placed</td>\n",
       "      <td>Germany</td>\n",
       "      <td>IBM</td>\n",
       "      <td>54790</td>\n",
       "      <td>2.96</td>\n",
       "      <td>Schengen Student Visa</td>\n",
       "      <td>OPT</td>\n",
       "      <td>PTE</td>\n",
       "      <td>8.2</td>\n",
       "    </tr>\n",
       "  </tbody>\n",
       "</table>\n",
       "</div>"
      ],
      "text/plain": [
       "  student_id origin_country destination_country destination_city  \\\n",
       "0     S00001        Finland              Russia           Moscow   \n",
       "1     S00002             UK             Germany           Aachen   \n",
       "2     S00003        Ireland              Canada        Vancouver   \n",
       "3     S00004            UAE                  UK       Birmingham   \n",
       "4     S00005   South Africa             Germany        Stuttgart   \n",
       "\n",
       "                     university_name              course_name  \\\n",
       "0  Lomonosov Moscow State University         Computer Science   \n",
       "1                        RWTH Aachen        Civil Engineering   \n",
       "2     University of British Columbia                      Law   \n",
       "3           University of Birmingham             Data Science   \n",
       "4            University of Stuttgart  Business Administration   \n",
       "\n",
       "    field_of_study  year_of_enrollment scholarship_received  \\\n",
       "0      Engineering                2021                   No   \n",
       "1              Law                2023                  Yes   \n",
       "2             Arts                2019                   No   \n",
       "3  Social Sciences                2021                  Yes   \n",
       "4              Law                2020                  Yes   \n",
       "\n",
       "     enrollment_reason  graduation_year placement_status placement_country  \\\n",
       "0       Higher Ranking             2024           Placed            Russia   \n",
       "1    Job Opportunities             2024           Placed           Germany   \n",
       "2          Scholarship             2020       Not Placed               NaN   \n",
       "3      Quality of Life             2023           Placed                UK   \n",
       "4  Political Stability             2021           Placed           Germany   \n",
       "\n",
       "  placement_company  starting_salary_usd  gpa_or_score            visa_status  \\\n",
       "0         Microsoft                36416          3.92                 Tier 4   \n",
       "1            Google                32956          2.60           Study Permit   \n",
       "2               NaN                    0          2.72                     F1   \n",
       "3             Apple                50892          3.71  Schengen Student Visa   \n",
       "4               IBM                54790          2.96  Schengen Student Visa   \n",
       "\n",
       "  post_graduation_visa language_proficiency_test  test_score  \n",
       "0          Work Permit                     TOEFL         7.8  \n",
       "1                  OPT                       PTE         7.9  \n",
       "2            Blue Card                       NaN         0.0  \n",
       "3                  PSW                       NaN         0.0  \n",
       "4                  OPT                       PTE         8.2  "
      ]
     },
     "execution_count": 3,
     "metadata": {},
     "output_type": "execute_result"
    }
   ],
   "source": [
    "import pandas as pd\n",
    "\n",
    "# Load the dataset\n",
    "df = pd.read_csv('/kaggle/input/global-student-migration-and-higher-education-trends/global_student_migration.csv')\n",
    "\n",
    "# Preview first few rows\n",
    "df.head()\n"
   ]
  },
  {
   "cell_type": "code",
   "execution_count": 4,
   "id": "4bb357cb",
   "metadata": {
    "execution": {
     "iopub.execute_input": "2025-07-11T04:43:57.954256Z",
     "iopub.status.busy": "2025-07-11T04:43:57.953641Z",
     "iopub.status.idle": "2025-07-11T04:43:57.991532Z",
     "shell.execute_reply": "2025-07-11T04:43:57.989658Z"
    },
    "papermill": {
     "duration": 0.044613,
     "end_time": "2025-07-11T04:43:57.993268",
     "exception": false,
     "start_time": "2025-07-11T04:43:57.948655",
     "status": "completed"
    },
    "tags": []
   },
   "outputs": [
    {
     "name": "stdout",
     "output_type": "stream",
     "text": [
      "<class 'pandas.core.frame.DataFrame'>\n",
      "RangeIndex: 5000 entries, 0 to 4999\n",
      "Data columns (total 20 columns):\n",
      " #   Column                     Non-Null Count  Dtype  \n",
      "---  ------                     --------------  -----  \n",
      " 0   student_id                 5000 non-null   object \n",
      " 1   origin_country             5000 non-null   object \n",
      " 2   destination_country        5000 non-null   object \n",
      " 3   destination_city           5000 non-null   object \n",
      " 4   university_name            5000 non-null   object \n",
      " 5   course_name                5000 non-null   object \n",
      " 6   field_of_study             5000 non-null   object \n",
      " 7   year_of_enrollment         5000 non-null   int64  \n",
      " 8   scholarship_received       5000 non-null   object \n",
      " 9   enrollment_reason          5000 non-null   object \n",
      " 10  graduation_year            5000 non-null   int64  \n",
      " 11  placement_status           5000 non-null   object \n",
      " 12  placement_country          2509 non-null   object \n",
      " 13  placement_company          2509 non-null   object \n",
      " 14  starting_salary_usd        5000 non-null   int64  \n",
      " 15  gpa_or_score               5000 non-null   float64\n",
      " 16  visa_status                5000 non-null   object \n",
      " 17  post_graduation_visa       5000 non-null   object \n",
      " 18  language_proficiency_test  4018 non-null   object \n",
      " 19  test_score                 5000 non-null   float64\n",
      "dtypes: float64(2), int64(3), object(15)\n",
      "memory usage: 781.4+ KB\n",
      "\n",
      "Missing values per column:\n",
      "student_id                      0\n",
      "origin_country                  0\n",
      "destination_country             0\n",
      "destination_city                0\n",
      "university_name                 0\n",
      "course_name                     0\n",
      "field_of_study                  0\n",
      "year_of_enrollment              0\n",
      "scholarship_received            0\n",
      "enrollment_reason               0\n",
      "graduation_year                 0\n",
      "placement_status                0\n",
      "placement_country            2491\n",
      "placement_company            2491\n",
      "starting_salary_usd             0\n",
      "gpa_or_score                    0\n",
      "visa_status                     0\n",
      "post_graduation_visa            0\n",
      "language_proficiency_test     982\n",
      "test_score                      0\n",
      "dtype: int64\n",
      "\n",
      "Column names:\n",
      "Index(['student_id', 'origin_country', 'destination_country',\n",
      "       'destination_city', 'university_name', 'course_name', 'field_of_study',\n",
      "       'year_of_enrollment', 'scholarship_received', 'enrollment_reason',\n",
      "       'graduation_year', 'placement_status', 'placement_country',\n",
      "       'placement_company', 'starting_salary_usd', 'gpa_or_score',\n",
      "       'visa_status', 'post_graduation_visa', 'language_proficiency_test',\n",
      "       'test_score'],\n",
      "      dtype='object')\n"
     ]
    }
   ],
   "source": [
    "# Show basic info\n",
    "df.info()\n",
    "\n",
    "# Show missing values\n",
    "print(\"\\nMissing values per column:\")\n",
    "print(df.isnull().sum())\n",
    "\n",
    "# Show column names\n",
    "print(\"\\nColumn names:\")\n",
    "print(df.columns)\n"
   ]
  },
  {
   "cell_type": "code",
   "execution_count": 5,
   "id": "8234d35b",
   "metadata": {
    "execution": {
     "iopub.execute_input": "2025-07-11T04:43:58.002580Z",
     "iopub.status.busy": "2025-07-11T04:43:58.002278Z",
     "iopub.status.idle": "2025-07-11T04:43:58.058671Z",
     "shell.execute_reply": "2025-07-11T04:43:58.057744Z"
    },
    "papermill": {
     "duration": 0.062855,
     "end_time": "2025-07-11T04:43:58.060262",
     "exception": false,
     "start_time": "2025-07-11T04:43:57.997407",
     "status": "completed"
    },
    "tags": []
   },
   "outputs": [
    {
     "name": "stderr",
     "output_type": "stream",
     "text": [
      "/tmp/ipykernel_13/2649863088.py:8: FutureWarning: DataFrame.applymap has been deprecated. Use DataFrame.map instead.\n",
      "  df = df.applymap(lambda x: x.strip() if isinstance(x, str) else x)\n"
     ]
    },
    {
     "data": {
      "text/html": [
       "<div>\n",
       "<style scoped>\n",
       "    .dataframe tbody tr th:only-of-type {\n",
       "        vertical-align: middle;\n",
       "    }\n",
       "\n",
       "    .dataframe tbody tr th {\n",
       "        vertical-align: top;\n",
       "    }\n",
       "\n",
       "    .dataframe thead th {\n",
       "        text-align: right;\n",
       "    }\n",
       "</style>\n",
       "<table border=\"1\" class=\"dataframe\">\n",
       "  <thead>\n",
       "    <tr style=\"text-align: right;\">\n",
       "      <th></th>\n",
       "      <th>student_id</th>\n",
       "      <th>origin_country</th>\n",
       "      <th>destination_country</th>\n",
       "      <th>destination_city</th>\n",
       "      <th>university_name</th>\n",
       "      <th>course_name</th>\n",
       "      <th>field_of_study</th>\n",
       "      <th>year_of_enrollment</th>\n",
       "      <th>scholarship_received</th>\n",
       "      <th>enrollment_reason</th>\n",
       "      <th>graduation_year</th>\n",
       "      <th>placement_status</th>\n",
       "      <th>placement_country</th>\n",
       "      <th>placement_company</th>\n",
       "      <th>starting_salary_usd</th>\n",
       "      <th>gpa_or_score</th>\n",
       "      <th>visa_status</th>\n",
       "      <th>post_graduation_visa</th>\n",
       "      <th>language_proficiency_test</th>\n",
       "      <th>test_score</th>\n",
       "    </tr>\n",
       "  </thead>\n",
       "  <tbody>\n",
       "    <tr>\n",
       "      <th>0</th>\n",
       "      <td>S00001</td>\n",
       "      <td>Finland</td>\n",
       "      <td>Russia</td>\n",
       "      <td>Moscow</td>\n",
       "      <td>Lomonosov Moscow State University</td>\n",
       "      <td>Computer Science</td>\n",
       "      <td>Engineering</td>\n",
       "      <td>2021</td>\n",
       "      <td>No</td>\n",
       "      <td>Higher Ranking</td>\n",
       "      <td>2024</td>\n",
       "      <td>Placed</td>\n",
       "      <td>Russia</td>\n",
       "      <td>Microsoft</td>\n",
       "      <td>36416</td>\n",
       "      <td>3.92</td>\n",
       "      <td>Tier 4</td>\n",
       "      <td>Work Permit</td>\n",
       "      <td>TOEFL</td>\n",
       "      <td>7.8</td>\n",
       "    </tr>\n",
       "    <tr>\n",
       "      <th>1</th>\n",
       "      <td>S00002</td>\n",
       "      <td>UK</td>\n",
       "      <td>Germany</td>\n",
       "      <td>Aachen</td>\n",
       "      <td>RWTH Aachen</td>\n",
       "      <td>Civil Engineering</td>\n",
       "      <td>Law</td>\n",
       "      <td>2023</td>\n",
       "      <td>Yes</td>\n",
       "      <td>Job Opportunities</td>\n",
       "      <td>2024</td>\n",
       "      <td>Placed</td>\n",
       "      <td>Germany</td>\n",
       "      <td>Google</td>\n",
       "      <td>32956</td>\n",
       "      <td>2.60</td>\n",
       "      <td>Study Permit</td>\n",
       "      <td>OPT</td>\n",
       "      <td>PTE</td>\n",
       "      <td>7.9</td>\n",
       "    </tr>\n",
       "    <tr>\n",
       "      <th>2</th>\n",
       "      <td>S00003</td>\n",
       "      <td>Ireland</td>\n",
       "      <td>Canada</td>\n",
       "      <td>Vancouver</td>\n",
       "      <td>University of British Columbia</td>\n",
       "      <td>Law</td>\n",
       "      <td>Arts</td>\n",
       "      <td>2019</td>\n",
       "      <td>No</td>\n",
       "      <td>Scholarship</td>\n",
       "      <td>2020</td>\n",
       "      <td>Not Placed</td>\n",
       "      <td>NaN</td>\n",
       "      <td>NaN</td>\n",
       "      <td>0</td>\n",
       "      <td>2.72</td>\n",
       "      <td>F1</td>\n",
       "      <td>Blue Card</td>\n",
       "      <td>NaN</td>\n",
       "      <td>0.0</td>\n",
       "    </tr>\n",
       "    <tr>\n",
       "      <th>3</th>\n",
       "      <td>S00004</td>\n",
       "      <td>UAE</td>\n",
       "      <td>UK</td>\n",
       "      <td>Birmingham</td>\n",
       "      <td>University of Birmingham</td>\n",
       "      <td>Data Science</td>\n",
       "      <td>Social Sciences</td>\n",
       "      <td>2021</td>\n",
       "      <td>Yes</td>\n",
       "      <td>Quality of Life</td>\n",
       "      <td>2023</td>\n",
       "      <td>Placed</td>\n",
       "      <td>UK</td>\n",
       "      <td>Apple</td>\n",
       "      <td>50892</td>\n",
       "      <td>3.71</td>\n",
       "      <td>Schengen Student Visa</td>\n",
       "      <td>PSW</td>\n",
       "      <td>NaN</td>\n",
       "      <td>0.0</td>\n",
       "    </tr>\n",
       "    <tr>\n",
       "      <th>4</th>\n",
       "      <td>S00005</td>\n",
       "      <td>South Africa</td>\n",
       "      <td>Germany</td>\n",
       "      <td>Stuttgart</td>\n",
       "      <td>University of Stuttgart</td>\n",
       "      <td>Business Administration</td>\n",
       "      <td>Law</td>\n",
       "      <td>2020</td>\n",
       "      <td>Yes</td>\n",
       "      <td>Political Stability</td>\n",
       "      <td>2021</td>\n",
       "      <td>Placed</td>\n",
       "      <td>Germany</td>\n",
       "      <td>IBM</td>\n",
       "      <td>54790</td>\n",
       "      <td>2.96</td>\n",
       "      <td>Schengen Student Visa</td>\n",
       "      <td>OPT</td>\n",
       "      <td>PTE</td>\n",
       "      <td>8.2</td>\n",
       "    </tr>\n",
       "  </tbody>\n",
       "</table>\n",
       "</div>"
      ],
      "text/plain": [
       "  student_id origin_country destination_country destination_city  \\\n",
       "0     S00001        Finland              Russia           Moscow   \n",
       "1     S00002             UK             Germany           Aachen   \n",
       "2     S00003        Ireland              Canada        Vancouver   \n",
       "3     S00004            UAE                  UK       Birmingham   \n",
       "4     S00005   South Africa             Germany        Stuttgart   \n",
       "\n",
       "                     university_name              course_name  \\\n",
       "0  Lomonosov Moscow State University         Computer Science   \n",
       "1                        RWTH Aachen        Civil Engineering   \n",
       "2     University of British Columbia                      Law   \n",
       "3           University of Birmingham             Data Science   \n",
       "4            University of Stuttgart  Business Administration   \n",
       "\n",
       "    field_of_study  year_of_enrollment scholarship_received  \\\n",
       "0      Engineering                2021                   No   \n",
       "1              Law                2023                  Yes   \n",
       "2             Arts                2019                   No   \n",
       "3  Social Sciences                2021                  Yes   \n",
       "4              Law                2020                  Yes   \n",
       "\n",
       "     enrollment_reason  graduation_year placement_status placement_country  \\\n",
       "0       Higher Ranking             2024           Placed            Russia   \n",
       "1    Job Opportunities             2024           Placed           Germany   \n",
       "2          Scholarship             2020       Not Placed               NaN   \n",
       "3      Quality of Life             2023           Placed                UK   \n",
       "4  Political Stability             2021           Placed           Germany   \n",
       "\n",
       "  placement_company  starting_salary_usd  gpa_or_score            visa_status  \\\n",
       "0         Microsoft                36416          3.92                 Tier 4   \n",
       "1            Google                32956          2.60           Study Permit   \n",
       "2               NaN                    0          2.72                     F1   \n",
       "3             Apple                50892          3.71  Schengen Student Visa   \n",
       "4               IBM                54790          2.96  Schengen Student Visa   \n",
       "\n",
       "  post_graduation_visa language_proficiency_test  test_score  \n",
       "0          Work Permit                     TOEFL         7.8  \n",
       "1                  OPT                       PTE         7.9  \n",
       "2            Blue Card                       NaN         0.0  \n",
       "3                  PSW                       NaN         0.0  \n",
       "4                  OPT                       PTE         8.2  "
      ]
     },
     "execution_count": 5,
     "metadata": {},
     "output_type": "execute_result"
    }
   ],
   "source": [
    "# Strip whitespace from column names\n",
    "df.columns = df.columns.str.strip()\n",
    "\n",
    "# Remove duplicate rows\n",
    "df.drop_duplicates(inplace=True)\n",
    "\n",
    "# Strip spaces from string values\n",
    "df = df.applymap(lambda x: x.strip() if isinstance(x, str) else x)\n",
    "\n",
    "# Standardize country/university names (if present)\n",
    "if 'Country' in df.columns:\n",
    "    df['Country'] = df['Country'].str.title()\n",
    "\n",
    "if 'University' in df.columns:\n",
    "    df['University'] = df['University'].str.title()\n",
    "\n",
    "# Convert 'Year' column to datetime (if it exists)\n",
    "if 'Year' in df.columns:\n",
    "    df['Year'] = pd.to_datetime(df['Year'], errors='coerce')\n",
    "\n",
    "# Handle missing numeric values\n",
    "if 'Tuition Fee' in df.columns:\n",
    "    df['Tuition Fee'] = df['Tuition Fee'].fillna(df['Tuition Fee'].mean())\n",
    "\n",
    "# Final preview\n",
    "df.head()\n"
   ]
  },
  {
   "cell_type": "code",
   "execution_count": 6,
   "id": "dbfd8cf0",
   "metadata": {
    "execution": {
     "iopub.execute_input": "2025-07-11T04:43:58.070374Z",
     "iopub.status.busy": "2025-07-11T04:43:58.070099Z",
     "iopub.status.idle": "2025-07-11T04:43:58.125323Z",
     "shell.execute_reply": "2025-07-11T04:43:58.124398Z"
    },
    "papermill": {
     "duration": 0.062469,
     "end_time": "2025-07-11T04:43:58.127132",
     "exception": false,
     "start_time": "2025-07-11T04:43:58.064663",
     "status": "completed"
    },
    "tags": []
   },
   "outputs": [],
   "source": [
    "df.to_csv('/kaggle/working/cleaned_student_migration.csv', index=False)\n"
   ]
  },
  {
   "cell_type": "code",
   "execution_count": 7,
   "id": "1ee58f5e",
   "metadata": {
    "execution": {
     "iopub.execute_input": "2025-07-11T04:43:58.137176Z",
     "iopub.status.busy": "2025-07-11T04:43:58.136608Z",
     "iopub.status.idle": "2025-07-11T04:44:00.108565Z",
     "shell.execute_reply": "2025-07-11T04:44:00.107396Z"
    },
    "papermill": {
     "duration": 1.97895,
     "end_time": "2025-07-11T04:44:00.110679",
     "exception": false,
     "start_time": "2025-07-11T04:43:58.131729",
     "status": "completed"
    },
    "tags": []
   },
   "outputs": [],
   "source": [
    "import matplotlib.pyplot as plt\n",
    "import seaborn as sns\n"
   ]
  },
  {
   "cell_type": "code",
   "execution_count": 8,
   "id": "87131c43",
   "metadata": {
    "execution": {
     "iopub.execute_input": "2025-07-11T04:44:00.122499Z",
     "iopub.status.busy": "2025-07-11T04:44:00.122004Z",
     "iopub.status.idle": "2025-07-11T04:44:00.128004Z",
     "shell.execute_reply": "2025-07-11T04:44:00.126523Z"
    },
    "papermill": {
     "duration": 0.013817,
     "end_time": "2025-07-11T04:44:00.129601",
     "exception": false,
     "start_time": "2025-07-11T04:44:00.115784",
     "status": "completed"
    },
    "tags": []
   },
   "outputs": [
    {
     "name": "stdout",
     "output_type": "stream",
     "text": [
      "['student_id', 'origin_country', 'destination_country', 'destination_city', 'university_name', 'course_name', 'field_of_study', 'year_of_enrollment', 'scholarship_received', 'enrollment_reason', 'graduation_year', 'placement_status', 'placement_country', 'placement_company', 'starting_salary_usd', 'gpa_or_score', 'visa_status', 'post_graduation_visa', 'language_proficiency_test', 'test_score']\n"
     ]
    }
   ],
   "source": [
    "print(df.columns.tolist())\n"
   ]
  },
  {
   "cell_type": "code",
   "execution_count": 9,
   "id": "e90b142c",
   "metadata": {
    "execution": {
     "iopub.execute_input": "2025-07-11T04:44:00.141752Z",
     "iopub.status.busy": "2025-07-11T04:44:00.141445Z",
     "iopub.status.idle": "2025-07-11T04:44:00.467452Z",
     "shell.execute_reply": "2025-07-11T04:44:00.466438Z"
    },
    "papermill": {
     "duration": 0.3336,
     "end_time": "2025-07-11T04:44:00.469158",
     "exception": false,
     "start_time": "2025-07-11T04:44:00.135558",
     "status": "completed"
    },
    "tags": []
   },
   "outputs": [
    {
     "data": {
      "image/png": "[encoded data removed]",
      "text/plain": [
       "<Figure size 640x480 with 1 Axes>"
      ]
     },
     "metadata": {},
     "output_type": "display_data"
    }
   ],
   "source": [
    "placement_counts = df['placement_status'].value_counts()\n",
    "\n",
    "plt.pie(placement_counts.values, labels=placement_counts.index, autopct='%1.1f%%', startangle=140, colors=['#66bb6a', '#ef5350'])\n",
    "plt.title('Placement Status Distribution')\n",
    "plt.axis('equal')\n",
    "plt.show()\n"
   ]
  },
  {
   "cell_type": "code",
   "execution_count": 10,
   "id": "8f062dab",
   "metadata": {
    "execution": {
     "iopub.execute_input": "2025-07-11T04:44:00.481455Z",
     "iopub.status.busy": "2025-07-11T04:44:00.481149Z",
     "iopub.status.idle": "2025-07-11T04:44:00.688262Z",
     "shell.execute_reply": "2025-07-11T04:44:00.687230Z"
    },
    "papermill": {
     "duration": 0.214672,
     "end_time": "2025-07-11T04:44:00.689718",
     "exception": false,
     "start_time": "2025-07-11T04:44:00.475046",
     "status": "completed"
    },
    "tags": []
   },
   "outputs": [
    {
     "data": {
      "image/png": "[encoded data removed]",
      "text/plain": [
       "<Figure size 640x480 with 1 Axes>"
      ]
     },
     "metadata": {},
     "output_type": "display_data"
    }
   ],
   "source": [
    "avg_salary = df.groupby('destination_country')['starting_salary_usd'].mean().sort_values(ascending=False).head(10)\n",
    "\n",
    "sns.barplot(x=avg_salary.values, y=avg_salary.index, palette=\"coolwarm\")\n",
    "plt.title('Top 10 Countries by Average Starting Salary')\n",
    "plt.xlabel('Average Salary (USD)')\n",
    "plt.ylabel('Destination Country')\n",
    "plt.show()\n"
   ]
  },
  {
   "cell_type": "code",
   "execution_count": 11,
   "id": "9ef5cdd8",
   "metadata": {
    "execution": {
     "iopub.execute_input": "2025-07-11T04:44:00.703517Z",
     "iopub.status.busy": "2025-07-11T04:44:00.703237Z",
     "iopub.status.idle": "2025-07-11T04:44:00.913279Z",
     "shell.execute_reply": "2025-07-11T04:44:00.912195Z"
    },
    "papermill": {
     "duration": 0.218054,
     "end_time": "2025-07-11T04:44:00.914747",
     "exception": false,
     "start_time": "2025-07-11T04:44:00.696693",
     "status": "completed"
    },
    "tags": []
   },
   "outputs": [
    {
     "data": {
      "image/png": "[encoded data removed]",
      "text/plain": [
       "<Figure size 640x480 with 1 Axes>"
      ]
     },
     "metadata": {},
     "output_type": "display_data"
    }
   ],
   "source": [
    "avg_gpa = df.groupby('course_name')['gpa_or_score'].mean().sort_values(ascending=False).head(10)\n",
    "\n",
    "sns.barplot(x=avg_gpa.values, y=avg_gpa.index, palette=\"mako\")\n",
    "plt.title('Top 10 Courses by GPA or Score')\n",
    "plt.xlabel('Average GPA/Score')\n",
    "plt.ylabel('Course Name')\n",
    "plt.show()\n"
   ]
  },
  {
   "cell_type": "code",
   "execution_count": 12,
   "id": "b0b82852",
   "metadata": {
    "execution": {
     "iopub.execute_input": "2025-07-11T04:44:00.928031Z",
     "iopub.status.busy": "2025-07-11T04:44:00.927649Z",
     "iopub.status.idle": "2025-07-11T04:44:01.091076Z",
     "shell.execute_reply": "2025-07-11T04:44:01.089720Z"
    },
    "papermill": {
     "duration": 0.171835,
     "end_time": "2025-07-11T04:44:01.092648",
     "exception": false,
     "start_time": "2025-07-11T04:44:00.920813",
     "status": "completed"
    },
    "tags": []
   },
   "outputs": [
    {
     "data": {
      "image/png": "[encoded data removed]",
      "text/plain": [
       "<Figure size 640x480 with 1 Axes>"
      ]
     },
     "metadata": {},
     "output_type": "display_data"
    }
   ],
   "source": [
    "visa_counts = df['post_graduation_visa'].value_counts().head(10)\n",
    "\n",
    "sns.barplot(x=visa_counts.values, y=visa_counts.index, palette=\"Set2\")\n",
    "plt.title('Top 10 Post-Graduation Visa Options')\n",
    "plt.xlabel('Number of Students')\n",
    "plt.ylabel('Visa Option')\n",
    "plt.show()\n"
   ]
  },
  {
   "cell_type": "code",
   "execution_count": 13,
   "id": "c4265f8c",
   "metadata": {
    "execution": {
     "iopub.execute_input": "2025-07-11T04:44:01.107877Z",
     "iopub.status.busy": "2025-07-11T04:44:01.107547Z",
     "iopub.status.idle": "2025-07-11T04:44:01.835932Z",
     "shell.execute_reply": "2025-07-11T04:44:01.834993Z"
    },
    "papermill": {
     "duration": 0.738182,
     "end_time": "2025-07-11T04:44:01.837597",
     "exception": false,
     "start_time": "2025-07-11T04:44:01.099415",
     "status": "completed"
    },
    "tags": []
   },
   "outputs": [],
   "source": [
    "import pandas as pd\n",
    "import numpy as np\n",
    "import seaborn as sns\n",
    "import matplotlib.pyplot as plt\n",
    "\n",
    "from sklearn.model_selection import train_test_split\n",
    "from sklearn.preprocessing import LabelEncoder\n",
    "from sklearn.ensemble import RandomForestClassifier\n",
    "from sklearn.metrics import classification_report, confusion_matrix, accuracy_score\n"
   ]
  },
  {
   "cell_type": "code",
   "execution_count": 14,
   "id": "7103dd33",
   "metadata": {
    "execution": {
     "iopub.execute_input": "2025-07-11T04:44:01.852438Z",
     "iopub.status.busy": "2025-07-11T04:44:01.852117Z",
     "iopub.status.idle": "2025-07-11T04:44:01.883456Z",
     "shell.execute_reply": "2025-07-11T04:44:01.882519Z"
    },
    "papermill": {
     "duration": 0.04061,
     "end_time": "2025-07-11T04:44:01.885083",
     "exception": false,
     "start_time": "2025-07-11T04:44:01.844473",
     "status": "completed"
    },
    "tags": []
   },
   "outputs": [],
   "source": [
    "# Drop columns that leak placement outcome or are irrelevant\n",
    "df_model = df.drop(['student_id', 'placement_country', 'placement_company'], axis=1)\n",
    "\n",
    "# Encode target column: \"Placed\" → 1, \"Not Placed\" → 0\n",
    "df_model['placement_status'] = df_model['placement_status'].map({'Placed': 1, 'Not Placed': 0})\n",
    "\n",
    "# Fill missing values\n",
    "df_model.fillna({\n",
    "    'starting_salary_usd': 0,\n",
    "    'gpa_or_score': df_model['gpa_or_score'].mean(),\n",
    "    'test_score': 0,\n",
    "}, inplace=True)\n",
    "\n",
    "# Label encode categorical variables\n",
    "label_cols = df_model.select_dtypes(include='object').columns\n",
    "\n",
    "le = LabelEncoder()\n",
    "for col in label_cols:\n",
    "    df_model[col] = le.fit_transform(df_model[col])\n"
   ]
  },
  {
   "cell_type": "code",
   "execution_count": 15,
   "id": "632103fc",
   "metadata": {
    "execution": {
     "iopub.execute_input": "2025-07-11T04:44:01.900011Z",
     "iopub.status.busy": "2025-07-11T04:44:01.899691Z",
     "iopub.status.idle": "2025-07-11T04:44:01.910047Z",
     "shell.execute_reply": "2025-07-11T04:44:01.908947Z"
    },
    "papermill": {
     "duration": 0.020083,
     "end_time": "2025-07-11T04:44:01.911672",
     "exception": false,
     "start_time": "2025-07-11T04:44:01.891589",
     "status": "completed"
    },
    "tags": []
   },
   "outputs": [],
   "source": [
    "X = df_model.drop('placement_status', axis=1)\n",
    "y = df_model['placement_status']\n",
    "\n",
    "X_train, X_test, y_train, y_test = train_test_split(X, y, test_size=0.2, random_state=42)\n"
   ]
  },
  {
   "cell_type": "code",
   "execution_count": 16,
   "id": "dd9fc90e",
   "metadata": {
    "execution": {
     "iopub.execute_input": "2025-07-11T04:44:01.925703Z",
     "iopub.status.busy": "2025-07-11T04:44:01.925409Z",
     "iopub.status.idle": "2025-07-11T04:44:02.577207Z",
     "shell.execute_reply": "2025-07-11T04:44:02.576225Z"
    },
    "papermill": {
     "duration": 0.660632,
     "end_time": "2025-07-11T04:44:02.578891",
     "exception": false,
     "start_time": "2025-07-11T04:44:01.918259",
     "status": "completed"
    },
    "tags": []
   },
   "outputs": [
    {
     "name": "stdout",
     "output_type": "stream",
     "text": [
      "Accuracy: 1.0\n",
      "\n",
      "Classification Report:\n",
      "               precision    recall  f1-score   support\n",
      "\n",
      "           0       1.00      1.00      1.00       475\n",
      "           1       1.00      1.00      1.00       525\n",
      "\n",
      "    accuracy                           1.00      1000\n",
      "   macro avg       1.00      1.00      1.00      1000\n",
      "weighted avg       1.00      1.00      1.00      1000\n",
      "\n",
      "\n",
      "Confusion Matrix:\n",
      " [[475   0]\n",
      " [  0 525]]\n"
     ]
    },
    {
     "data": {
      "image/png": "[encoded data removed]",
      "text/plain": [
       "<Figure size 640x480 with 1 Axes>"
      ]
     },
     "metadata": {},
     "output_type": "display_data"
    }
   ],
   "source": [
    "model = RandomForestClassifier(n_estimators=100, random_state=42)\n",
    "model.fit(X_train, y_train)\n",
    "y_pred = model.predict(X_test)\n",
    "\n",
    "print(\"Accuracy:\", accuracy_score(y_test, y_pred))\n",
    "print(\"\\nClassification Report:\\n\", classification_report(y_test, y_pred))\n",
    "print(\"\\nConfusion Matrix:\\n\", confusion_matrix(y_test, y_pred))\n",
    "\n",
    "importances = pd.Series(model.feature_importances_, index=X.columns)\n",
    "importances.sort_values(ascending=True).plot(kind='barh', color='teal')\n",
    "plt.title('Feature Importance for Placement Prediction')\n",
    "plt.show()\n"
   ]
  }
 ],
 "metadata": {
  "kaggle": {
   "accelerator": "none",
   "dataSources": [
    {
     "datasetId": 7786771,
     "sourceId": 12351301,
     "sourceType": "datasetVersion"
    }
   ],
   "dockerImageVersionId": 31089,
   "isGpuEnabled": false,
   "isInternetEnabled": false,
   "language": "python",
   "sourceType": "notebook"
  },
  "kernelspec": {
   "display_name": "Python 3",
   "language": "python",
   "name": "python3"
  },
  "language_info": {
   "codemirror_mode": {
    "name": "ipython",
    "version": 3
   },
   "file_extension": ".py",
   "mimetype": "text/x-python",
   "name": "python",
   "nbconvert_exporter": "python",
   "pygments_lexer": "ipython3",
   "version": "3.11.13"
  },
  "papermill": {
   "default_parameters": {},
   "duration": 12.242725,
   "end_time": "2025-07-11T04:44:03.368286",
   "environment_variables": {},
   "exception": null,
   "input_path": "__notebook__.ipynb",
   "output_path": "__notebook__.ipynb",
   "parameters": {},
   "start_time": "2025-07-11T04:43:51.125561",
   "version": "2.6.0"
  }
 },
 "nbformat": 4,
 "nbformat_minor": 5
}
